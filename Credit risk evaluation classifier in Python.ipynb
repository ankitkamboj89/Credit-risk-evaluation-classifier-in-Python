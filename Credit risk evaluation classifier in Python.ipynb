{
 "cells": [
  {
   "cell_type": "markdown",
   "id": "1caafcc5",
   "metadata": {},
   "source": [
    "# Loan Approval"
   ]
  },
  {
   "cell_type": "markdown",
   "id": "6f55f404",
   "metadata": {},
   "source": [
    "**Part 1**"
   ]
  },
  {
   "cell_type": "markdown",
   "id": "4e67ad36",
   "metadata": {},
   "source": [
    "We do the data wrangling\n",
    "\n",
    "Use column transformer and pipeline to streamline the process\n",
    "\n",
    "Use Randomised Search to find the optimal set of parameters\n",
    "\n",
    "Automate the procedure for the multiple classifiers\n",
    "\n",
    "Plot Precision-Recall Curve\n",
    "\n",
    "Plot Learning Curve (Check Overfitting)"
   ]
  },
  {
   "cell_type": "code",
   "execution_count": 5,
   "id": "3408feda",
   "metadata": {},
   "outputs": [
    {
     "name": "stdout",
     "output_type": "stream",
     "text": [
      "Collecting lightgbm\n",
      "  Downloading lightgbm-3.3.2-py3-none-win_amd64.whl (1.0 MB)\n",
      "     ---------------------------------------- 1.0/1.0 MB 9.2 MB/s eta 0:00:00\n",
      "Requirement already satisfied: scikit-learn!=0.22.0 in c:\\users\\ankit\\anaconda3\\lib\\site-packages (from lightgbm) (0.24.2)\n",
      "Requirement already satisfied: wheel in c:\\users\\ankit\\anaconda3\\lib\\site-packages (from lightgbm) (0.37.0)\n",
      "Requirement already satisfied: scipy in c:\\users\\ankit\\anaconda3\\lib\\site-packages (from lightgbm) (1.7.1)\n",
      "Requirement already satisfied: numpy in c:\\users\\ankit\\anaconda3\\lib\\site-packages (from lightgbm) (1.20.3)\n",
      "Requirement already satisfied: joblib>=0.11 in c:\\users\\ankit\\anaconda3\\lib\\site-packages (from scikit-learn!=0.22.0->lightgbm) (1.1.0)\n",
      "Requirement already satisfied: threadpoolctl>=2.0.0 in c:\\users\\ankit\\anaconda3\\lib\\site-packages (from scikit-learn!=0.22.0->lightgbm) (2.2.0)\n",
      "Installing collected packages: lightgbm\n",
      "Successfully installed lightgbm-3.3.2\n",
      "Note: you may need to restart the kernel to use updated packages.\n"
     ]
    },
    {
     "name": "stderr",
     "output_type": "stream",
     "text": [
      "WARNING: You are using pip version 22.0.3; however, version 22.2.2 is available.\n",
      "You should consider upgrading via the 'C:\\Users\\Ankit\\anaconda3\\python.exe -m pip install --upgrade pip' command.\n"
     ]
    }
   ],
   "source": [
    "    pip install lightgbm"
   ]
  },
  {
   "cell_type": "code",
   "execution_count": 1,
   "id": "9ec8e906",
   "metadata": {},
   "outputs": [],
   "source": [
    "import pandas as pd\n",
    "import numpy as np\n",
    "import matplotlib.pyplot as plt\n",
    "%matplotlib inline\n",
    "from sklearn.compose import ColumnTransformer\n",
    "from sklearn.pipeline import Pipeline\n",
    "from sklearn.model_selection import train_test_split, learning_curve, RandomizedSearchCV\n",
    "from sklearn.preprocessing import OneHotEncoder, StandardScaler\n",
    "from sklearn.experimental import enable_iterative_imputer\n",
    "from sklearn.impute import IterativeImputer\n",
    "from sklearn.metrics import plot_precision_recall_curve\n",
    "from sklearn.linear_model import LinearRegression\n",
    "from sklearn.neighbors import KNeighborsClassifier\n",
    "from sklearn.neighbors import KNeighborsRegressor\n",
    "from sklearn.ensemble import RandomForestClassifier, RandomForestRegressor\n",
    "from sklearn.metrics import plot_confusion_matrix, confusion_matrix, classification_report\n",
    "from lightgbm import LGBMClassifier"
   ]
  },
  {
   "cell_type": "code",
   "execution_count": 2,
   "id": "6fb58ca2",
   "metadata": {},
   "outputs": [],
   "source": [
    "df = pd.read_csv(\"credit_risk_dataset.csv\")"
   ]
  },
  {
   "cell_type": "code",
   "execution_count": 3,
   "id": "bdb229cf",
   "metadata": {
    "scrolled": true
   },
   "outputs": [
    {
     "data": {
      "text/html": [
       "<div>\n",
       "<style scoped>\n",
       "    .dataframe tbody tr th:only-of-type {\n",
       "        vertical-align: middle;\n",
       "    }\n",
       "\n",
       "    .dataframe tbody tr th {\n",
       "        vertical-align: top;\n",
       "    }\n",
       "\n",
       "    .dataframe thead th {\n",
       "        text-align: right;\n",
       "    }\n",
       "</style>\n",
       "<table border=\"1\" class=\"dataframe\">\n",
       "  <thead>\n",
       "    <tr style=\"text-align: right;\">\n",
       "      <th></th>\n",
       "      <th>person_age</th>\n",
       "      <th>person_income</th>\n",
       "      <th>person_home_ownership</th>\n",
       "      <th>person_emp_length</th>\n",
       "      <th>loan_intent</th>\n",
       "      <th>loan_grade</th>\n",
       "      <th>loan_amnt</th>\n",
       "      <th>loan_int_rate</th>\n",
       "      <th>loan_status</th>\n",
       "      <th>loan_percent_income</th>\n",
       "      <th>cb_person_default_on_file</th>\n",
       "      <th>cb_person_cred_hist_length</th>\n",
       "    </tr>\n",
       "  </thead>\n",
       "  <tbody>\n",
       "    <tr>\n",
       "      <th>0</th>\n",
       "      <td>22</td>\n",
       "      <td>59000</td>\n",
       "      <td>RENT</td>\n",
       "      <td>123.0</td>\n",
       "      <td>PERSONAL</td>\n",
       "      <td>D</td>\n",
       "      <td>35000</td>\n",
       "      <td>16.02</td>\n",
       "      <td>1</td>\n",
       "      <td>0.59</td>\n",
       "      <td>Y</td>\n",
       "      <td>3</td>\n",
       "    </tr>\n",
       "    <tr>\n",
       "      <th>1</th>\n",
       "      <td>21</td>\n",
       "      <td>9600</td>\n",
       "      <td>OWN</td>\n",
       "      <td>5.0</td>\n",
       "      <td>EDUCATION</td>\n",
       "      <td>B</td>\n",
       "      <td>1000</td>\n",
       "      <td>11.14</td>\n",
       "      <td>0</td>\n",
       "      <td>0.10</td>\n",
       "      <td>N</td>\n",
       "      <td>2</td>\n",
       "    </tr>\n",
       "    <tr>\n",
       "      <th>2</th>\n",
       "      <td>25</td>\n",
       "      <td>9600</td>\n",
       "      <td>MORTGAGE</td>\n",
       "      <td>1.0</td>\n",
       "      <td>MEDICAL</td>\n",
       "      <td>C</td>\n",
       "      <td>5500</td>\n",
       "      <td>12.87</td>\n",
       "      <td>1</td>\n",
       "      <td>0.57</td>\n",
       "      <td>N</td>\n",
       "      <td>3</td>\n",
       "    </tr>\n",
       "    <tr>\n",
       "      <th>3</th>\n",
       "      <td>23</td>\n",
       "      <td>65500</td>\n",
       "      <td>RENT</td>\n",
       "      <td>4.0</td>\n",
       "      <td>MEDICAL</td>\n",
       "      <td>C</td>\n",
       "      <td>35000</td>\n",
       "      <td>15.23</td>\n",
       "      <td>1</td>\n",
       "      <td>0.53</td>\n",
       "      <td>N</td>\n",
       "      <td>2</td>\n",
       "    </tr>\n",
       "    <tr>\n",
       "      <th>4</th>\n",
       "      <td>24</td>\n",
       "      <td>54400</td>\n",
       "      <td>RENT</td>\n",
       "      <td>8.0</td>\n",
       "      <td>MEDICAL</td>\n",
       "      <td>C</td>\n",
       "      <td>35000</td>\n",
       "      <td>14.27</td>\n",
       "      <td>1</td>\n",
       "      <td>0.55</td>\n",
       "      <td>Y</td>\n",
       "      <td>4</td>\n",
       "    </tr>\n",
       "  </tbody>\n",
       "</table>\n",
       "</div>"
      ],
      "text/plain": [
       "   person_age  person_income person_home_ownership  person_emp_length  \\\n",
       "0          22          59000                  RENT              123.0   \n",
       "1          21           9600                   OWN                5.0   \n",
       "2          25           9600              MORTGAGE                1.0   \n",
       "3          23          65500                  RENT                4.0   \n",
       "4          24          54400                  RENT                8.0   \n",
       "\n",
       "  loan_intent loan_grade  loan_amnt  loan_int_rate  loan_status  \\\n",
       "0    PERSONAL          D      35000          16.02            1   \n",
       "1   EDUCATION          B       1000          11.14            0   \n",
       "2     MEDICAL          C       5500          12.87            1   \n",
       "3     MEDICAL          C      35000          15.23            1   \n",
       "4     MEDICAL          C      35000          14.27            1   \n",
       "\n",
       "   loan_percent_income cb_person_default_on_file  cb_person_cred_hist_length  \n",
       "0                 0.59                         Y                           3  \n",
       "1                 0.10                         N                           2  \n",
       "2                 0.57                         N                           3  \n",
       "3                 0.53                         N                           2  \n",
       "4                 0.55                         Y                           4  "
      ]
     },
     "execution_count": 3,
     "metadata": {},
     "output_type": "execute_result"
    }
   ],
   "source": [
    "df.head()"
   ]
  },
  {
   "cell_type": "markdown",
   "id": "973f130e",
   "metadata": {},
   "source": [
    "**Removing duplicates from the data**"
   ]
  },
  {
   "cell_type": "code",
   "execution_count": 4,
   "id": "e734de55",
   "metadata": {},
   "outputs": [],
   "source": [
    "dups = df.duplicated()"
   ]
  },
  {
   "cell_type": "code",
   "execution_count": 5,
   "id": "9540a2f0",
   "metadata": {},
   "outputs": [
    {
     "data": {
      "text/html": [
       "<div>\n",
       "<style scoped>\n",
       "    .dataframe tbody tr th:only-of-type {\n",
       "        vertical-align: middle;\n",
       "    }\n",
       "\n",
       "    .dataframe tbody tr th {\n",
       "        vertical-align: top;\n",
       "    }\n",
       "\n",
       "    .dataframe thead th {\n",
       "        text-align: right;\n",
       "    }\n",
       "</style>\n",
       "<table border=\"1\" class=\"dataframe\">\n",
       "  <thead>\n",
       "    <tr style=\"text-align: right;\">\n",
       "      <th></th>\n",
       "      <th>person_age</th>\n",
       "      <th>person_income</th>\n",
       "      <th>person_home_ownership</th>\n",
       "      <th>person_emp_length</th>\n",
       "      <th>loan_intent</th>\n",
       "      <th>loan_grade</th>\n",
       "      <th>loan_amnt</th>\n",
       "      <th>loan_int_rate</th>\n",
       "      <th>loan_status</th>\n",
       "      <th>loan_percent_income</th>\n",
       "      <th>cb_person_default_on_file</th>\n",
       "      <th>cb_person_cred_hist_length</th>\n",
       "    </tr>\n",
       "  </thead>\n",
       "  <tbody>\n",
       "    <tr>\n",
       "      <th>15975</th>\n",
       "      <td>23</td>\n",
       "      <td>42000</td>\n",
       "      <td>RENT</td>\n",
       "      <td>5.0</td>\n",
       "      <td>VENTURE</td>\n",
       "      <td>B</td>\n",
       "      <td>6000</td>\n",
       "      <td>9.99</td>\n",
       "      <td>0</td>\n",
       "      <td>0.14</td>\n",
       "      <td>N</td>\n",
       "      <td>4</td>\n",
       "    </tr>\n",
       "    <tr>\n",
       "      <th>15989</th>\n",
       "      <td>23</td>\n",
       "      <td>90000</td>\n",
       "      <td>MORTGAGE</td>\n",
       "      <td>7.0</td>\n",
       "      <td>EDUCATION</td>\n",
       "      <td>B</td>\n",
       "      <td>8000</td>\n",
       "      <td>10.36</td>\n",
       "      <td>0</td>\n",
       "      <td>0.09</td>\n",
       "      <td>N</td>\n",
       "      <td>3</td>\n",
       "    </tr>\n",
       "    <tr>\n",
       "      <th>15995</th>\n",
       "      <td>24</td>\n",
       "      <td>48000</td>\n",
       "      <td>MORTGAGE</td>\n",
       "      <td>4.0</td>\n",
       "      <td>MEDICAL</td>\n",
       "      <td>A</td>\n",
       "      <td>4000</td>\n",
       "      <td>5.42</td>\n",
       "      <td>0</td>\n",
       "      <td>0.08</td>\n",
       "      <td>N</td>\n",
       "      <td>4</td>\n",
       "    </tr>\n",
       "    <tr>\n",
       "      <th>16025</th>\n",
       "      <td>24</td>\n",
       "      <td>10000</td>\n",
       "      <td>RENT</td>\n",
       "      <td>8.0</td>\n",
       "      <td>PERSONAL</td>\n",
       "      <td>A</td>\n",
       "      <td>3000</td>\n",
       "      <td>7.90</td>\n",
       "      <td>1</td>\n",
       "      <td>0.30</td>\n",
       "      <td>N</td>\n",
       "      <td>3</td>\n",
       "    </tr>\n",
       "    <tr>\n",
       "      <th>16028</th>\n",
       "      <td>23</td>\n",
       "      <td>100000</td>\n",
       "      <td>MORTGAGE</td>\n",
       "      <td>7.0</td>\n",
       "      <td>EDUCATION</td>\n",
       "      <td>A</td>\n",
       "      <td>15000</td>\n",
       "      <td>7.88</td>\n",
       "      <td>0</td>\n",
       "      <td>0.15</td>\n",
       "      <td>N</td>\n",
       "      <td>4</td>\n",
       "    </tr>\n",
       "    <tr>\n",
       "      <th>...</th>\n",
       "      <td>...</td>\n",
       "      <td>...</td>\n",
       "      <td>...</td>\n",
       "      <td>...</td>\n",
       "      <td>...</td>\n",
       "      <td>...</td>\n",
       "      <td>...</td>\n",
       "      <td>...</td>\n",
       "      <td>...</td>\n",
       "      <td>...</td>\n",
       "      <td>...</td>\n",
       "      <td>...</td>\n",
       "    </tr>\n",
       "    <tr>\n",
       "      <th>32010</th>\n",
       "      <td>42</td>\n",
       "      <td>39996</td>\n",
       "      <td>MORTGAGE</td>\n",
       "      <td>2.0</td>\n",
       "      <td>HOMEIMPROVEMENT</td>\n",
       "      <td>A</td>\n",
       "      <td>2500</td>\n",
       "      <td>5.42</td>\n",
       "      <td>0</td>\n",
       "      <td>0.06</td>\n",
       "      <td>N</td>\n",
       "      <td>12</td>\n",
       "    </tr>\n",
       "    <tr>\n",
       "      <th>32047</th>\n",
       "      <td>36</td>\n",
       "      <td>250000</td>\n",
       "      <td>RENT</td>\n",
       "      <td>2.0</td>\n",
       "      <td>DEBTCONSOLIDATION</td>\n",
       "      <td>A</td>\n",
       "      <td>20000</td>\n",
       "      <td>7.88</td>\n",
       "      <td>0</td>\n",
       "      <td>0.08</td>\n",
       "      <td>N</td>\n",
       "      <td>17</td>\n",
       "    </tr>\n",
       "    <tr>\n",
       "      <th>32172</th>\n",
       "      <td>49</td>\n",
       "      <td>120000</td>\n",
       "      <td>MORTGAGE</td>\n",
       "      <td>12.0</td>\n",
       "      <td>MEDICAL</td>\n",
       "      <td>B</td>\n",
       "      <td>12000</td>\n",
       "      <td>10.99</td>\n",
       "      <td>0</td>\n",
       "      <td>0.10</td>\n",
       "      <td>N</td>\n",
       "      <td>12</td>\n",
       "    </tr>\n",
       "    <tr>\n",
       "      <th>32259</th>\n",
       "      <td>39</td>\n",
       "      <td>40000</td>\n",
       "      <td>OWN</td>\n",
       "      <td>4.0</td>\n",
       "      <td>VENTURE</td>\n",
       "      <td>B</td>\n",
       "      <td>1000</td>\n",
       "      <td>10.37</td>\n",
       "      <td>0</td>\n",
       "      <td>0.03</td>\n",
       "      <td>N</td>\n",
       "      <td>16</td>\n",
       "    </tr>\n",
       "    <tr>\n",
       "      <th>32279</th>\n",
       "      <td>43</td>\n",
       "      <td>11340</td>\n",
       "      <td>RENT</td>\n",
       "      <td>4.0</td>\n",
       "      <td>EDUCATION</td>\n",
       "      <td>C</td>\n",
       "      <td>1950</td>\n",
       "      <td>NaN</td>\n",
       "      <td>1</td>\n",
       "      <td>0.17</td>\n",
       "      <td>N</td>\n",
       "      <td>11</td>\n",
       "    </tr>\n",
       "  </tbody>\n",
       "</table>\n",
       "<p>165 rows × 12 columns</p>\n",
       "</div>"
      ],
      "text/plain": [
       "       person_age  person_income person_home_ownership  person_emp_length  \\\n",
       "15975          23          42000                  RENT                5.0   \n",
       "15989          23          90000              MORTGAGE                7.0   \n",
       "15995          24          48000              MORTGAGE                4.0   \n",
       "16025          24          10000                  RENT                8.0   \n",
       "16028          23         100000              MORTGAGE                7.0   \n",
       "...           ...            ...                   ...                ...   \n",
       "32010          42          39996              MORTGAGE                2.0   \n",
       "32047          36         250000                  RENT                2.0   \n",
       "32172          49         120000              MORTGAGE               12.0   \n",
       "32259          39          40000                   OWN                4.0   \n",
       "32279          43          11340                  RENT                4.0   \n",
       "\n",
       "             loan_intent loan_grade  loan_amnt  loan_int_rate  loan_status  \\\n",
       "15975            VENTURE          B       6000           9.99            0   \n",
       "15989          EDUCATION          B       8000          10.36            0   \n",
       "15995            MEDICAL          A       4000           5.42            0   \n",
       "16025           PERSONAL          A       3000           7.90            1   \n",
       "16028          EDUCATION          A      15000           7.88            0   \n",
       "...                  ...        ...        ...            ...          ...   \n",
       "32010    HOMEIMPROVEMENT          A       2500           5.42            0   \n",
       "32047  DEBTCONSOLIDATION          A      20000           7.88            0   \n",
       "32172            MEDICAL          B      12000          10.99            0   \n",
       "32259            VENTURE          B       1000          10.37            0   \n",
       "32279          EDUCATION          C       1950            NaN            1   \n",
       "\n",
       "       loan_percent_income cb_person_default_on_file  \\\n",
       "15975                 0.14                         N   \n",
       "15989                 0.09                         N   \n",
       "15995                 0.08                         N   \n",
       "16025                 0.30                         N   \n",
       "16028                 0.15                         N   \n",
       "...                    ...                       ...   \n",
       "32010                 0.06                         N   \n",
       "32047                 0.08                         N   \n",
       "32172                 0.10                         N   \n",
       "32259                 0.03                         N   \n",
       "32279                 0.17                         N   \n",
       "\n",
       "       cb_person_cred_hist_length  \n",
       "15975                           4  \n",
       "15989                           3  \n",
       "15995                           4  \n",
       "16025                           3  \n",
       "16028                           4  \n",
       "...                           ...  \n",
       "32010                          12  \n",
       "32047                          17  \n",
       "32172                          12  \n",
       "32259                          16  \n",
       "32279                          11  \n",
       "\n",
       "[165 rows x 12 columns]"
      ]
     },
     "execution_count": 5,
     "metadata": {},
     "output_type": "execute_result"
    }
   ],
   "source": [
    "df[dups]"
   ]
  },
  {
   "cell_type": "markdown",
   "id": "3aec5553",
   "metadata": {},
   "source": [
    "Dropping the duplicate instances from the data"
   ]
  },
  {
   "cell_type": "code",
   "execution_count": 6,
   "id": "59408bd8",
   "metadata": {},
   "outputs": [],
   "source": [
    "X_train , X_test, y_train, y_test = train_test_split(df.drop('loan_status', axis=1), df['loan_status'], random_state=0, test_size=.2, stratify=df['loan_status'], shuffle=True) "
   ]
  },
  {
   "cell_type": "code",
   "execution_count": 7,
   "id": "89be47d4",
   "metadata": {},
   "outputs": [
    {
     "data": {
      "text/plain": [
       "0    0.781836\n",
       "1    0.218164\n",
       "Name: loan_status, dtype: float64"
      ]
     },
     "execution_count": 7,
     "metadata": {},
     "output_type": "execute_result"
    }
   ],
   "source": [
    "df['loan_status'].value_counts(normalize=True)"
   ]
  },
  {
   "cell_type": "code",
   "execution_count": 9,
   "id": "06048931",
   "metadata": {},
   "outputs": [
    {
     "data": {
      "text/plain": [
       "0    0.781845\n",
       "1    0.218155\n",
       "Name: loan_status, dtype: float64"
      ]
     },
     "execution_count": 9,
     "metadata": {},
     "output_type": "execute_result"
    }
   ],
   "source": [
    "y_train.value_counts(normalize=True)"
   ]
  },
  {
   "cell_type": "code",
   "execution_count": 10,
   "id": "fdc68c82",
   "metadata": {},
   "outputs": [
    {
     "data": {
      "text/plain": [
       "0    0.781801\n",
       "1    0.218199\n",
       "Name: loan_status, dtype: float64"
      ]
     },
     "execution_count": 10,
     "metadata": {},
     "output_type": "execute_result"
    }
   ],
   "source": [
    "y_test.value_counts(normalize=True)"
   ]
  },
  {
   "cell_type": "code",
   "execution_count": 11,
   "id": "96e60646",
   "metadata": {},
   "outputs": [
    {
     "data": {
      "text/plain": [
       "person_age                    0.000\n",
       "person_income                 0.000\n",
       "person_home_ownership         0.000\n",
       "person_emp_length             2.805\n",
       "loan_intent                   0.000\n",
       "loan_grade                    0.000\n",
       "loan_amnt                     0.000\n",
       "loan_int_rate                 9.527\n",
       "loan_percent_income           0.000\n",
       "cb_person_default_on_file     0.000\n",
       "cb_person_cred_hist_length    0.000\n",
       "dtype: float64"
      ]
     },
     "execution_count": 11,
     "metadata": {},
     "output_type": "execute_result"
    }
   ],
   "source": [
    "np.round(X_train.isna().sum()*100/ X_train.shape[0], 3)"
   ]
  },
  {
   "cell_type": "code",
   "execution_count": 13,
   "id": "8b53f30a",
   "metadata": {},
   "outputs": [
    {
     "data": {
      "text/plain": [
       "(26064, 11)"
      ]
     },
     "execution_count": 13,
     "metadata": {},
     "output_type": "execute_result"
    }
   ],
   "source": [
    "X_train.shape"
   ]
  },
  {
   "cell_type": "code",
   "execution_count": 14,
   "id": "5f8c9802",
   "metadata": {},
   "outputs": [
    {
     "data": {
      "text/plain": [
       "(22903, 11)"
      ]
     },
     "execution_count": 14,
     "metadata": {},
     "output_type": "execute_result"
    }
   ],
   "source": [
    "X_train.dropna().shape"
   ]
  },
  {
   "cell_type": "code",
   "execution_count": 15,
   "id": "2c0e668e",
   "metadata": {},
   "outputs": [
    {
     "data": {
      "text/plain": [
       "0.12127839165131983"
      ]
     },
     "execution_count": 15,
     "metadata": {},
     "output_type": "execute_result"
    }
   ],
   "source": [
    "(26064-22903)/26064"
   ]
  },
  {
   "cell_type": "markdown",
   "id": "458f8cc7",
   "metadata": {},
   "source": [
    "It is not Ideal to drop the 12% of data which have missing values"
   ]
  },
  {
   "cell_type": "code",
   "execution_count": 17,
   "id": "bf82163f",
   "metadata": {},
   "outputs": [
    {
     "data": {
      "text/html": [
       "<div>\n",
       "<style scoped>\n",
       "    .dataframe tbody tr th:only-of-type {\n",
       "        vertical-align: middle;\n",
       "    }\n",
       "\n",
       "    .dataframe tbody tr th {\n",
       "        vertical-align: top;\n",
       "    }\n",
       "\n",
       "    .dataframe thead th {\n",
       "        text-align: right;\n",
       "    }\n",
       "</style>\n",
       "<table border=\"1\" class=\"dataframe\">\n",
       "  <thead>\n",
       "    <tr style=\"text-align: right;\">\n",
       "      <th></th>\n",
       "      <th>person_age</th>\n",
       "      <th>person_income</th>\n",
       "      <th>person_emp_length</th>\n",
       "      <th>loan_amnt</th>\n",
       "      <th>loan_int_rate</th>\n",
       "      <th>loan_percent_income</th>\n",
       "      <th>cb_person_cred_hist_length</th>\n",
       "    </tr>\n",
       "  </thead>\n",
       "  <tbody>\n",
       "    <tr>\n",
       "      <th>count</th>\n",
       "      <td>26064.000000</td>\n",
       "      <td>2.606400e+04</td>\n",
       "      <td>25333.000000</td>\n",
       "      <td>26064.000000</td>\n",
       "      <td>23581.000000</td>\n",
       "      <td>26064.000000</td>\n",
       "      <td>26064.000000</td>\n",
       "    </tr>\n",
       "    <tr>\n",
       "      <th>mean</th>\n",
       "      <td>27.706837</td>\n",
       "      <td>6.625445e+04</td>\n",
       "      <td>4.780681</td>\n",
       "      <td>9629.324931</td>\n",
       "      <td>11.007956</td>\n",
       "      <td>0.170685</td>\n",
       "      <td>5.787523</td>\n",
       "    </tr>\n",
       "    <tr>\n",
       "      <th>std</th>\n",
       "      <td>6.372581</td>\n",
       "      <td>6.443824e+04</td>\n",
       "      <td>4.148388</td>\n",
       "      <td>6360.923315</td>\n",
       "      <td>3.248521</td>\n",
       "      <td>0.107218</td>\n",
       "      <td>4.053186</td>\n",
       "    </tr>\n",
       "    <tr>\n",
       "      <th>min</th>\n",
       "      <td>20.000000</td>\n",
       "      <td>4.000000e+03</td>\n",
       "      <td>0.000000</td>\n",
       "      <td>500.000000</td>\n",
       "      <td>5.420000</td>\n",
       "      <td>0.000000</td>\n",
       "      <td>2.000000</td>\n",
       "    </tr>\n",
       "    <tr>\n",
       "      <th>25%</th>\n",
       "      <td>23.000000</td>\n",
       "      <td>3.866100e+04</td>\n",
       "      <td>2.000000</td>\n",
       "      <td>5000.000000</td>\n",
       "      <td>7.900000</td>\n",
       "      <td>0.090000</td>\n",
       "      <td>3.000000</td>\n",
       "    </tr>\n",
       "    <tr>\n",
       "      <th>50%</th>\n",
       "      <td>26.000000</td>\n",
       "      <td>5.500000e+04</td>\n",
       "      <td>4.000000</td>\n",
       "      <td>8000.000000</td>\n",
       "      <td>10.990000</td>\n",
       "      <td>0.150000</td>\n",
       "      <td>4.000000</td>\n",
       "    </tr>\n",
       "    <tr>\n",
       "      <th>75%</th>\n",
       "      <td>30.000000</td>\n",
       "      <td>7.957000e+04</td>\n",
       "      <td>7.000000</td>\n",
       "      <td>12412.500000</td>\n",
       "      <td>13.480000</td>\n",
       "      <td>0.230000</td>\n",
       "      <td>8.000000</td>\n",
       "    </tr>\n",
       "    <tr>\n",
       "      <th>max</th>\n",
       "      <td>144.000000</td>\n",
       "      <td>6.000000e+06</td>\n",
       "      <td>123.000000</td>\n",
       "      <td>35000.000000</td>\n",
       "      <td>23.220000</td>\n",
       "      <td>0.830000</td>\n",
       "      <td>30.000000</td>\n",
       "    </tr>\n",
       "  </tbody>\n",
       "</table>\n",
       "</div>"
      ],
      "text/plain": [
       "         person_age  person_income  person_emp_length     loan_amnt  \\\n",
       "count  26064.000000   2.606400e+04       25333.000000  26064.000000   \n",
       "mean      27.706837   6.625445e+04           4.780681   9629.324931   \n",
       "std        6.372581   6.443824e+04           4.148388   6360.923315   \n",
       "min       20.000000   4.000000e+03           0.000000    500.000000   \n",
       "25%       23.000000   3.866100e+04           2.000000   5000.000000   \n",
       "50%       26.000000   5.500000e+04           4.000000   8000.000000   \n",
       "75%       30.000000   7.957000e+04           7.000000  12412.500000   \n",
       "max      144.000000   6.000000e+06         123.000000  35000.000000   \n",
       "\n",
       "       loan_int_rate  loan_percent_income  cb_person_cred_hist_length  \n",
       "count   23581.000000         26064.000000                26064.000000  \n",
       "mean       11.007956             0.170685                    5.787523  \n",
       "std         3.248521             0.107218                    4.053186  \n",
       "min         5.420000             0.000000                    2.000000  \n",
       "25%         7.900000             0.090000                    3.000000  \n",
       "50%        10.990000             0.150000                    4.000000  \n",
       "75%        13.480000             0.230000                    8.000000  \n",
       "max        23.220000             0.830000                   30.000000  "
      ]
     },
     "execution_count": 17,
     "metadata": {},
     "output_type": "execute_result"
    }
   ],
   "source": [
    "X_train.describe()"
   ]
  },
  {
   "cell_type": "markdown",
   "id": "b01b1de9",
   "metadata": {},
   "source": [
    "Age of 144 and employement length of 123 is unrealistic and hence need to be addrssed before the model building as part of EDA "
   ]
  },
  {
   "cell_type": "code",
   "execution_count": 20,
   "id": "b295c319",
   "metadata": {},
   "outputs": [
    {
     "data": {
      "text/plain": [
       "['person_age',\n",
       " 'person_income',\n",
       " 'person_emp_length',\n",
       " 'loan_amnt',\n",
       " 'loan_int_rate',\n",
       " 'loan_percent_income',\n",
       " 'cb_person_cred_hist_length']"
      ]
     },
     "execution_count": 20,
     "metadata": {},
     "output_type": "execute_result"
    }
   ],
   "source": [
    "num_cols = [col for col in X_train if X_train[col].dtypes != 'O']\n",
    "num_cols"
   ]
  },
  {
   "cell_type": "code",
   "execution_count": 22,
   "id": "0b4b368a",
   "metadata": {},
   "outputs": [
    {
     "data": {
      "image/png": "[encoded data removed]",
      "text/plain": [
       "<Figure size 432x288 with 1 Axes>"
      ]
     },
     "metadata": {
      "needs_background": "light"
     },
     "output_type": "display_data"
    },
    {
     "data": {
      "image/png": "[encoded data removed]",
      "text/plain": [
       "<Figure size 432x288 with 1 Axes>"
      ]
     },
     "metadata": {
      "needs_background": "light"
     },
     "output_type": "display_data"
    },
    {
     "data": {
      "image/png": "[encoded data removed]",
      "text/plain": [
       "<Figure size 432x288 with 1 Axes>"
      ]
     },
     "metadata": {
      "needs_background": "light"
     },
     "output_type": "display_data"
    },
    {
     "data": {
      "image/png": "[encoded data removed]",
      "text/plain": [
       "<Figure size 432x288 with 1 Axes>"
      ]
     },
     "metadata": {
      "needs_background": "light"
     },
     "output_type": "display_data"
    },
    {
     "data": {
      "image/png": "[encoded data removed]",
      "text/plain": [
       "<Figure size 432x288 with 1 Axes>"
      ]
     },
     "metadata": {
      "needs_background": "light"
     },
     "output_type": "display_data"
    },
    {
     "data": {
      "image/png": "[encoded data removed]",
      "text/plain": [
       "<Figure size 432x288 with 1 Axes>"
      ]
     },
     "metadata": {
      "needs_background": "light"
     },
     "output_type": "display_data"
    },
    {
     "data": {
      "image/png": "[encoded data removed]",
      "text/plain": [
       "<Figure size 432x288 with 1 Axes>"
      ]
     },
     "metadata": {
      "needs_background": "light"
     },
     "output_type": "display_data"
    }
   ],
   "source": [
    "import seaborn as sns\n",
    "for col in num_cols:\n",
    "    sns.histplot (X_train[col])\n",
    "    plt.show()"
   ]
  },
  {
   "cell_type": "code",
   "execution_count": 23,
   "id": "b6f35ab7",
   "metadata": {},
   "outputs": [
    {
     "data": {
      "text/html": [
       "<div>\n",
       "<style scoped>\n",
       "    .dataframe tbody tr th:only-of-type {\n",
       "        vertical-align: middle;\n",
       "    }\n",
       "\n",
       "    .dataframe tbody tr th {\n",
       "        vertical-align: top;\n",
       "    }\n",
       "\n",
       "    .dataframe thead th {\n",
       "        text-align: right;\n",
       "    }\n",
       "</style>\n",
       "<table border=\"1\" class=\"dataframe\">\n",
       "  <thead>\n",
       "    <tr style=\"text-align: right;\">\n",
       "      <th></th>\n",
       "      <th>person_age</th>\n",
       "      <th>person_income</th>\n",
       "      <th>person_home_ownership</th>\n",
       "      <th>person_emp_length</th>\n",
       "      <th>loan_intent</th>\n",
       "      <th>loan_grade</th>\n",
       "      <th>loan_amnt</th>\n",
       "      <th>loan_int_rate</th>\n",
       "      <th>loan_percent_income</th>\n",
       "      <th>cb_person_default_on_file</th>\n",
       "      <th>cb_person_cred_hist_length</th>\n",
       "    </tr>\n",
       "  </thead>\n",
       "  <tbody>\n",
       "    <tr>\n",
       "      <th>32416</th>\n",
       "      <td>94</td>\n",
       "      <td>24000</td>\n",
       "      <td>RENT</td>\n",
       "      <td>1.0</td>\n",
       "      <td>MEDICAL</td>\n",
       "      <td>C</td>\n",
       "      <td>6500</td>\n",
       "      <td>NaN</td>\n",
       "      <td>0.27</td>\n",
       "      <td>N</td>\n",
       "      <td>27</td>\n",
       "    </tr>\n",
       "    <tr>\n",
       "      <th>183</th>\n",
       "      <td>144</td>\n",
       "      <td>200000</td>\n",
       "      <td>MORTGAGE</td>\n",
       "      <td>4.0</td>\n",
       "      <td>EDUCATION</td>\n",
       "      <td>B</td>\n",
       "      <td>6000</td>\n",
       "      <td>11.86</td>\n",
       "      <td>0.03</td>\n",
       "      <td>N</td>\n",
       "      <td>2</td>\n",
       "    </tr>\n",
       "    <tr>\n",
       "      <th>747</th>\n",
       "      <td>123</td>\n",
       "      <td>78000</td>\n",
       "      <td>RENT</td>\n",
       "      <td>7.0</td>\n",
       "      <td>VENTURE</td>\n",
       "      <td>B</td>\n",
       "      <td>20000</td>\n",
       "      <td>NaN</td>\n",
       "      <td>0.26</td>\n",
       "      <td>N</td>\n",
       "      <td>4</td>\n",
       "    </tr>\n",
       "    <tr>\n",
       "      <th>32297</th>\n",
       "      <td>144</td>\n",
       "      <td>6000000</td>\n",
       "      <td>MORTGAGE</td>\n",
       "      <td>12.0</td>\n",
       "      <td>PERSONAL</td>\n",
       "      <td>C</td>\n",
       "      <td>5000</td>\n",
       "      <td>12.73</td>\n",
       "      <td>0.00</td>\n",
       "      <td>N</td>\n",
       "      <td>25</td>\n",
       "    </tr>\n",
       "    <tr>\n",
       "      <th>32422</th>\n",
       "      <td>80</td>\n",
       "      <td>64000</td>\n",
       "      <td>RENT</td>\n",
       "      <td>7.0</td>\n",
       "      <td>MEDICAL</td>\n",
       "      <td>B</td>\n",
       "      <td>6800</td>\n",
       "      <td>11.71</td>\n",
       "      <td>0.11</td>\n",
       "      <td>N</td>\n",
       "      <td>25</td>\n",
       "    </tr>\n",
       "    <tr>\n",
       "      <th>81</th>\n",
       "      <td>144</td>\n",
       "      <td>250000</td>\n",
       "      <td>RENT</td>\n",
       "      <td>4.0</td>\n",
       "      <td>VENTURE</td>\n",
       "      <td>C</td>\n",
       "      <td>4800</td>\n",
       "      <td>13.57</td>\n",
       "      <td>0.02</td>\n",
       "      <td>N</td>\n",
       "      <td>3</td>\n",
       "    </tr>\n",
       "    <tr>\n",
       "      <th>575</th>\n",
       "      <td>123</td>\n",
       "      <td>80004</td>\n",
       "      <td>RENT</td>\n",
       "      <td>2.0</td>\n",
       "      <td>EDUCATION</td>\n",
       "      <td>B</td>\n",
       "      <td>20400</td>\n",
       "      <td>10.25</td>\n",
       "      <td>0.25</td>\n",
       "      <td>N</td>\n",
       "      <td>3</td>\n",
       "    </tr>\n",
       "    <tr>\n",
       "      <th>32506</th>\n",
       "      <td>84</td>\n",
       "      <td>94800</td>\n",
       "      <td>MORTGAGE</td>\n",
       "      <td>2.0</td>\n",
       "      <td>PERSONAL</td>\n",
       "      <td>A</td>\n",
       "      <td>10000</td>\n",
       "      <td>7.51</td>\n",
       "      <td>0.11</td>\n",
       "      <td>N</td>\n",
       "      <td>24</td>\n",
       "    </tr>\n",
       "  </tbody>\n",
       "</table>\n",
       "</div>"
      ],
      "text/plain": [
       "       person_age  person_income person_home_ownership  person_emp_length  \\\n",
       "32416          94          24000                  RENT                1.0   \n",
       "183           144         200000              MORTGAGE                4.0   \n",
       "747           123          78000                  RENT                7.0   \n",
       "32297         144        6000000              MORTGAGE               12.0   \n",
       "32422          80          64000                  RENT                7.0   \n",
       "81            144         250000                  RENT                4.0   \n",
       "575           123          80004                  RENT                2.0   \n",
       "32506          84          94800              MORTGAGE                2.0   \n",
       "\n",
       "      loan_intent loan_grade  loan_amnt  loan_int_rate  loan_percent_income  \\\n",
       "32416     MEDICAL          C       6500            NaN                 0.27   \n",
       "183     EDUCATION          B       6000          11.86                 0.03   \n",
       "747       VENTURE          B      20000            NaN                 0.26   \n",
       "32297    PERSONAL          C       5000          12.73                 0.00   \n",
       "32422     MEDICAL          B       6800          11.71                 0.11   \n",
       "81        VENTURE          C       4800          13.57                 0.02   \n",
       "575     EDUCATION          B      20400          10.25                 0.25   \n",
       "32506    PERSONAL          A      10000           7.51                 0.11   \n",
       "\n",
       "      cb_person_default_on_file  cb_person_cred_hist_length  \n",
       "32416                         N                          27  \n",
       "183                           N                           2  \n",
       "747                           N                           4  \n",
       "32297                         N                          25  \n",
       "32422                         N                          25  \n",
       "81                            N                           3  \n",
       "575                           N                           3  \n",
       "32506                         N                          24  "
      ]
     },
     "execution_count": 23,
     "metadata": {},
     "output_type": "execute_result"
    }
   ],
   "source": [
    "X_train.loc[X_train['person_age']>=80, :]"
   ]
  },
  {
   "cell_type": "markdown",
   "id": "1d3d56ee",
   "metadata": {},
   "source": [
    "We are assuming that people of age 80 or more usually dont apply for the loan"
   ]
  },
  {
   "cell_type": "code",
   "execution_count": 24,
   "id": "aa809d5f",
   "metadata": {},
   "outputs": [],
   "source": [
    "X_train = X_train.loc[X_train['person_age']<80, :]"
   ]
  },
  {
   "cell_type": "markdown",
   "id": "c69aef33",
   "metadata": {},
   "source": [
    "We are assuming that 80 is the cutoff of the person applying fo rthe loan. We delete any instance in the dataframe where age is greater than 80."
   ]
  },
  {
   "cell_type": "code",
   "execution_count": 26,
   "id": "2924c49f",
   "metadata": {},
   "outputs": [
    {
     "data": {
      "text/plain": [
       "(26056, 11)"
      ]
     },
     "execution_count": 26,
     "metadata": {},
     "output_type": "execute_result"
    }
   ],
   "source": [
    "X_train.shape"
   ]
  },
  {
   "cell_type": "markdown",
   "id": "a0eb67f5",
   "metadata": {},
   "source": [
    "Since, we are assuming that the cutoff age of loan applicant is 80, therefore we also assume that employement length can not be greater than 66."
   ]
  },
  {
   "cell_type": "code",
   "execution_count": 27,
   "id": "2cfd431d",
   "metadata": {},
   "outputs": [
    {
     "data": {
      "text/html": [
       "<div>\n",
       "<style scoped>\n",
       "    .dataframe tbody tr th:only-of-type {\n",
       "        vertical-align: middle;\n",
       "    }\n",
       "\n",
       "    .dataframe tbody tr th {\n",
       "        vertical-align: top;\n",
       "    }\n",
       "\n",
       "    .dataframe thead th {\n",
       "        text-align: right;\n",
       "    }\n",
       "</style>\n",
       "<table border=\"1\" class=\"dataframe\">\n",
       "  <thead>\n",
       "    <tr style=\"text-align: right;\">\n",
       "      <th></th>\n",
       "      <th>person_age</th>\n",
       "      <th>person_income</th>\n",
       "      <th>person_home_ownership</th>\n",
       "      <th>person_emp_length</th>\n",
       "      <th>loan_intent</th>\n",
       "      <th>loan_grade</th>\n",
       "      <th>loan_amnt</th>\n",
       "      <th>loan_int_rate</th>\n",
       "      <th>loan_percent_income</th>\n",
       "      <th>cb_person_default_on_file</th>\n",
       "      <th>cb_person_cred_hist_length</th>\n",
       "    </tr>\n",
       "  </thead>\n",
       "  <tbody>\n",
       "    <tr>\n",
       "      <th>210</th>\n",
       "      <td>21</td>\n",
       "      <td>192000</td>\n",
       "      <td>MORTGAGE</td>\n",
       "      <td>123.0</td>\n",
       "      <td>VENTURE</td>\n",
       "      <td>A</td>\n",
       "      <td>20000</td>\n",
       "      <td>6.54</td>\n",
       "      <td>0.10</td>\n",
       "      <td>N</td>\n",
       "      <td>4</td>\n",
       "    </tr>\n",
       "    <tr>\n",
       "      <th>0</th>\n",
       "      <td>22</td>\n",
       "      <td>59000</td>\n",
       "      <td>RENT</td>\n",
       "      <td>123.0</td>\n",
       "      <td>PERSONAL</td>\n",
       "      <td>D</td>\n",
       "      <td>35000</td>\n",
       "      <td>16.02</td>\n",
       "      <td>0.59</td>\n",
       "      <td>Y</td>\n",
       "      <td>3</td>\n",
       "    </tr>\n",
       "  </tbody>\n",
       "</table>\n",
       "</div>"
      ],
      "text/plain": [
       "     person_age  person_income person_home_ownership  person_emp_length  \\\n",
       "210          21         192000              MORTGAGE              123.0   \n",
       "0            22          59000                  RENT              123.0   \n",
       "\n",
       "    loan_intent loan_grade  loan_amnt  loan_int_rate  loan_percent_income  \\\n",
       "210     VENTURE          A      20000           6.54                 0.10   \n",
       "0      PERSONAL          D      35000          16.02                 0.59   \n",
       "\n",
       "    cb_person_default_on_file  cb_person_cred_hist_length  \n",
       "210                         N                           4  \n",
       "0                           Y                           3  "
      ]
     },
     "execution_count": 27,
     "metadata": {},
     "output_type": "execute_result"
    }
   ],
   "source": [
    "X_train.loc[X_train['person_emp_length']>=66, :]"
   ]
  },
  {
   "cell_type": "markdown",
   "id": "abf4db49",
   "metadata": {},
   "source": [
    "There are just two records so, therefore we can remove them"
   ]
  },
  {
   "cell_type": "code",
   "execution_count": 28,
   "id": "18a36a55",
   "metadata": {},
   "outputs": [
    {
     "data": {
      "text/html": [
       "<div>\n",
       "<style scoped>\n",
       "    .dataframe tbody tr th:only-of-type {\n",
       "        vertical-align: middle;\n",
       "    }\n",
       "\n",
       "    .dataframe tbody tr th {\n",
       "        vertical-align: top;\n",
       "    }\n",
       "\n",
       "    .dataframe thead th {\n",
       "        text-align: right;\n",
       "    }\n",
       "</style>\n",
       "<table border=\"1\" class=\"dataframe\">\n",
       "  <thead>\n",
       "    <tr style=\"text-align: right;\">\n",
       "      <th></th>\n",
       "      <th>person_age</th>\n",
       "      <th>person_income</th>\n",
       "      <th>person_home_ownership</th>\n",
       "      <th>person_emp_length</th>\n",
       "      <th>loan_intent</th>\n",
       "      <th>loan_grade</th>\n",
       "      <th>loan_amnt</th>\n",
       "      <th>loan_int_rate</th>\n",
       "      <th>loan_status</th>\n",
       "      <th>loan_percent_income</th>\n",
       "      <th>cb_person_default_on_file</th>\n",
       "      <th>cb_person_cred_hist_length</th>\n",
       "    </tr>\n",
       "  </thead>\n",
       "  <tbody>\n",
       "    <tr>\n",
       "      <th>0</th>\n",
       "      <td>22</td>\n",
       "      <td>59000</td>\n",
       "      <td>RENT</td>\n",
       "      <td>123.0</td>\n",
       "      <td>PERSONAL</td>\n",
       "      <td>D</td>\n",
       "      <td>35000</td>\n",
       "      <td>16.02</td>\n",
       "      <td>1</td>\n",
       "      <td>0.59</td>\n",
       "      <td>Y</td>\n",
       "      <td>3</td>\n",
       "    </tr>\n",
       "    <tr>\n",
       "      <th>210</th>\n",
       "      <td>21</td>\n",
       "      <td>192000</td>\n",
       "      <td>MORTGAGE</td>\n",
       "      <td>123.0</td>\n",
       "      <td>VENTURE</td>\n",
       "      <td>A</td>\n",
       "      <td>20000</td>\n",
       "      <td>6.54</td>\n",
       "      <td>0</td>\n",
       "      <td>0.10</td>\n",
       "      <td>N</td>\n",
       "      <td>4</td>\n",
       "    </tr>\n",
       "  </tbody>\n",
       "</table>\n",
       "</div>"
      ],
      "text/plain": [
       "     person_age  person_income person_home_ownership  person_emp_length  \\\n",
       "0            22          59000                  RENT              123.0   \n",
       "210          21         192000              MORTGAGE              123.0   \n",
       "\n",
       "    loan_intent loan_grade  loan_amnt  loan_int_rate  loan_status  \\\n",
       "0      PERSONAL          D      35000          16.02            1   \n",
       "210     VENTURE          A      20000           6.54            0   \n",
       "\n",
       "     loan_percent_income cb_person_default_on_file  cb_person_cred_hist_length  \n",
       "0                   0.59                         Y                           3  \n",
       "210                 0.10                         N                           4  "
      ]
     },
     "execution_count": 28,
     "metadata": {},
     "output_type": "execute_result"
    }
   ],
   "source": [
    "df.query(\"person_age<=person_emp_length+14\")"
   ]
  },
  {
   "cell_type": "markdown",
   "id": "03aa3135",
   "metadata": {},
   "source": [
    "This is another type of query where we can see that it might be miscalculation (person's employement length)\n",
    "here person has started to work before legal age "
   ]
  },
  {
   "cell_type": "code",
   "execution_count": 29,
   "id": "c50fc62b",
   "metadata": {},
   "outputs": [],
   "source": [
    "X_train = X_train.loc[(X_train['person_emp_length']<66) | (X_train['person_emp_length'].isna()),:]"
   ]
  },
  {
   "cell_type": "code",
   "execution_count": 30,
   "id": "ce1672c6",
   "metadata": {},
   "outputs": [],
   "source": [
    "y_train=y_train[X_train.index]"
   ]
  },
  {
   "cell_type": "markdown",
   "id": "489769a0",
   "metadata": {},
   "source": [
    "So, now we have passed on the information regarding data that we have deleted from X_train to y_train "
   ]
  },
  {
   "cell_type": "code",
   "execution_count": 31,
   "id": "d3ea2c8f",
   "metadata": {},
   "outputs": [
    {
     "data": {
      "text/plain": [
       "['person_home_ownership',\n",
       " 'loan_intent',\n",
       " 'loan_grade',\n",
       " 'cb_person_default_on_file']"
      ]
     },
     "execution_count": 31,
     "metadata": {},
     "output_type": "execute_result"
    }
   ],
   "source": [
    "cat_cols = [col for col in X_train if X_train[col].dtypes == 'O']\n",
    "cat_cols"
   ]
  },
  {
   "cell_type": "markdown",
   "id": "5769403b",
   "metadata": {},
   "source": [
    "So we have extracted the categorical columns of the dataframe"
   ]
  },
  {
   "cell_type": "code",
   "execution_count": 33,
   "id": "a999a72a",
   "metadata": {},
   "outputs": [],
   "source": [
    "num_pipe=Pipeline([\n",
    "    ('impute', IterativeImputer()),\n",
    "    ('scale', StandardScaler()),\n",
    "])"
   ]
  },
  {
   "cell_type": "markdown",
   "id": "065bdb9c",
   "metadata": {},
   "source": [
    "We create a pipeline for transforming the numerical columns"
   ]
  },
  {
   "cell_type": "code",
   "execution_count": 37,
   "id": "7485ff9c",
   "metadata": {},
   "outputs": [],
   "source": [
    "ct = ColumnTransformer ([\n",
    "    ('num_pipe', num_pipe, num_cols),\n",
    "    ('cat_cols', OneHotEncoder(sparse=False, handle_unknown='ignore'), cat_cols)\n",
    "], remainder = 'passthrough')"
   ]
  },
  {
   "cell_type": "markdown",
   "id": "a729eeef",
   "metadata": {},
   "source": [
    "We tranform the numerical and categorical variables (categorical variables into One-Hot-Encoder)"
   ]
  },
  {
   "cell_type": "code",
   "execution_count": 40,
   "id": "202af5db",
   "metadata": {},
   "outputs": [],
   "source": [
    "grid = {\n",
    "    RandomForestClassifier(random_state=0, n_jobs=-1, class_weight='balanced'):\n",
    "    {'model__n_estimators':[300,400,500],\n",
    "     'coltf__num_pipe__impute__estimator': [LinearRegression(), RandomForestRegressor(random_state=0),\n",
    "                                        KNeighborsRegressor()]},\n",
    "    \n",
    "    LGBMClassifier(class_weight='balanced', random_state=0, n_jobs=-1):\n",
    "    {'model__n_estimators':[300,400,500],\n",
    "     'model__learning_rate':[0.001,0.01,0.1,1,10],\n",
    "     'model__boosting_type': ['gbdt', 'goss', 'dart'],\n",
    "     'coltf__num_pipe__impute__estimator':[LinearRegression(), RandomForestRegressor(random_state=0),\n",
    "                                        KNeighborsRegressor()]},\n",
    "}"
   ]
  },
  {
   "cell_type": "markdown",
   "id": "4866a1ac",
   "metadata": {},
   "source": [
    "So we have created a dictionary of classifier and its parameters"
   ]
  },
  {
   "cell_type": "code",
   "execution_count": 41,
   "id": "71de1422",
   "metadata": {},
   "outputs": [
    {
     "name": "stdout",
     "output_type": "stream",
     "text": [
      "RandomForestClassifier(class_weight='balanced', n_jobs=-1, random_state=0)\n",
      "--------------------------------------------------\n",
      "{'model__n_estimators': [300, 400, 500], 'coltf__num_pipe__impute__estimator': [LinearRegression(), RandomForestRegressor(random_state=0), KNeighborsRegressor()]}\n",
      "\n",
      "\n",
      "LGBMClassifier(class_weight='balanced', random_state=0)\n",
      "--------------------------------------------------\n",
      "{'model__n_estimators': [300, 400, 500], 'model__learning_rate': [0.001, 0.01, 0.1, 1, 10], 'model__boosting_type': ['gbdt', 'goss', 'dart'], 'coltf__num_pipe__impute__estimator': [LinearRegression(), RandomForestRegressor(random_state=0), KNeighborsRegressor()]}\n",
      "\n",
      "\n"
     ]
    }
   ],
   "source": [
    "for clf, param in grid.items():\n",
    "    print(clf)\n",
    "    print('-'*50)\n",
    "    print(param)\n",
    "    print('\\n')"
   ]
  },
  {
   "cell_type": "markdown",
   "id": "6eb34c60",
   "metadata": {},
   "source": [
    "We have just printed the parameters along with the classifiers"
   ]
  },
  {
   "cell_type": "code",
   "execution_count": 42,
   "id": "88c74846",
   "metadata": {},
   "outputs": [
    {
     "name": "stdout",
     "output_type": "stream",
     "text": [
      "Fitting 5 folds for each of 4 candidates, totalling 20 fits\n",
      "Fitting 5 folds for each of 4 candidates, totalling 20 fits\n"
     ]
    }
   ],
   "source": [
    "full_df = pd.DataFrame()\n",
    "best_algos = {}\n",
    "\n",
    "for clf, param in grid.items():\n",
    "    pipe = Pipeline([\n",
    "    ('coltf', ct),\n",
    "    ('model', clf)\n",
    "])\n",
    "\n",
    "    gs = RandomizedSearchCV(estimator=pipe, param_distributions=param, scoring='accuracy',\n",
    "                            n_jobs=-1, verbose=3, n_iter=4, random_state=0)\n",
    "    \n",
    "    gs.fit(X_train, y_train)\n",
    "    \n",
    "    all_res = pd.DataFrame(gs.cv_results_)\n",
    "\n",
    "    temp = all_res.loc[:, ['params', 'mean_test_score']]\n",
    "    algo_name = str(clf).split('(')[0]\n",
    "    temp['algo'] = algo_name\n",
    "    \n",
    "    full_df = pd.concat([full_df, temp], ignore_index=True)\n",
    "    best_algos[algo_name] = gs.best_estimator_"
   ]
  },
  {
   "cell_type": "markdown",
   "id": "6c00061d",
   "metadata": {},
   "source": [
    "We have created two empty containers, full_df and best_algos\n",
    "\n",
    "Then we create pipeline of column tranformer and classifier\n",
    "\n",
    "Here we have used randomised search instead of grid search; where we choose random 4 permutations \n"
   ]
  },
  {
   "cell_type": "code",
   "execution_count": 43,
   "id": "df5876b9",
   "metadata": {},
   "outputs": [
    {
     "data": {
      "text/html": [
       "<div>\n",
       "<style scoped>\n",
       "    .dataframe tbody tr th:only-of-type {\n",
       "        vertical-align: middle;\n",
       "    }\n",
       "\n",
       "    .dataframe tbody tr th {\n",
       "        vertical-align: top;\n",
       "    }\n",
       "\n",
       "    .dataframe thead th {\n",
       "        text-align: right;\n",
       "    }\n",
       "</style>\n",
       "<table border=\"1\" class=\"dataframe\">\n",
       "  <thead>\n",
       "    <tr style=\"text-align: right;\">\n",
       "      <th></th>\n",
       "      <th>params</th>\n",
       "      <th>mean_test_score</th>\n",
       "      <th>algo</th>\n",
       "    </tr>\n",
       "  </thead>\n",
       "  <tbody>\n",
       "    <tr>\n",
       "      <th>3</th>\n",
       "      <td>{'model__n_estimators': 400, 'coltf__num_pipe_...</td>\n",
       "      <td>0.933292</td>\n",
       "      <td>RandomForestClassifier</td>\n",
       "    </tr>\n",
       "    <tr>\n",
       "      <th>2</th>\n",
       "      <td>{'model__n_estimators': 400, 'coltf__num_pipe_...</td>\n",
       "      <td>0.933177</td>\n",
       "      <td>RandomForestClassifier</td>\n",
       "    </tr>\n",
       "    <tr>\n",
       "      <th>1</th>\n",
       "      <td>{'model__n_estimators': 500, 'coltf__num_pipe_...</td>\n",
       "      <td>0.932870</td>\n",
       "      <td>RandomForestClassifier</td>\n",
       "    </tr>\n",
       "    <tr>\n",
       "      <th>0</th>\n",
       "      <td>{'model__n_estimators': 400, 'coltf__num_pipe_...</td>\n",
       "      <td>0.932755</td>\n",
       "      <td>RandomForestClassifier</td>\n",
       "    </tr>\n",
       "    <tr>\n",
       "      <th>7</th>\n",
       "      <td>{'model__n_estimators': 300, 'model__learning_...</td>\n",
       "      <td>0.921586</td>\n",
       "      <td>LGBMClassifier</td>\n",
       "    </tr>\n",
       "    <tr>\n",
       "      <th>5</th>\n",
       "      <td>{'model__n_estimators': 300, 'model__learning_...</td>\n",
       "      <td>0.910801</td>\n",
       "      <td>LGBMClassifier</td>\n",
       "    </tr>\n",
       "    <tr>\n",
       "      <th>6</th>\n",
       "      <td>{'model__n_estimators': 300, 'model__learning_...</td>\n",
       "      <td>0.908843</td>\n",
       "      <td>LGBMClassifier</td>\n",
       "    </tr>\n",
       "    <tr>\n",
       "      <th>4</th>\n",
       "      <td>{'model__n_estimators': 300, 'model__learning_...</td>\n",
       "      <td>0.903777</td>\n",
       "      <td>LGBMClassifier</td>\n",
       "    </tr>\n",
       "  </tbody>\n",
       "</table>\n",
       "</div>"
      ],
      "text/plain": [
       "                                              params  mean_test_score  \\\n",
       "3  {'model__n_estimators': 400, 'coltf__num_pipe_...         0.933292   \n",
       "2  {'model__n_estimators': 400, 'coltf__num_pipe_...         0.933177   \n",
       "1  {'model__n_estimators': 500, 'coltf__num_pipe_...         0.932870   \n",
       "0  {'model__n_estimators': 400, 'coltf__num_pipe_...         0.932755   \n",
       "7  {'model__n_estimators': 300, 'model__learning_...         0.921586   \n",
       "5  {'model__n_estimators': 300, 'model__learning_...         0.910801   \n",
       "6  {'model__n_estimators': 300, 'model__learning_...         0.908843   \n",
       "4  {'model__n_estimators': 300, 'model__learning_...         0.903777   \n",
       "\n",
       "                     algo  \n",
       "3  RandomForestClassifier  \n",
       "2  RandomForestClassifier  \n",
       "1  RandomForestClassifier  \n",
       "0  RandomForestClassifier  \n",
       "7          LGBMClassifier  \n",
       "5          LGBMClassifier  \n",
       "6          LGBMClassifier  \n",
       "4          LGBMClassifier  "
      ]
     },
     "execution_count": 43,
     "metadata": {},
     "output_type": "execute_result"
    }
   ],
   "source": [
    "full_df.sort_values('mean_test_score', ascending=False)"
   ]
  },
  {
   "cell_type": "code",
   "execution_count": 44,
   "id": "d6b0a4a1",
   "metadata": {},
   "outputs": [
    {
     "data": {
      "text/plain": [
       "Pipeline(steps=[('coltf',\n",
       "                 ColumnTransformer(remainder='passthrough',\n",
       "                                   transformers=[('num_pipe',\n",
       "                                                  Pipeline(steps=[('impute',\n",
       "                                                                   IterativeImputer(estimator=RandomForestRegressor(random_state=0))),\n",
       "                                                                  ('scale',\n",
       "                                                                   StandardScaler())]),\n",
       "                                                  ['person_age',\n",
       "                                                   'person_income',\n",
       "                                                   'person_emp_length',\n",
       "                                                   'loan_amnt', 'loan_int_rate',\n",
       "                                                   'loan_percent_income',\n",
       "                                                   'cb_person_cred_hist_length']),\n",
       "                                                 ('cat_cols',\n",
       "                                                  OneHotEncoder(handle_unknown='ignore',\n",
       "                                                                sparse=False),\n",
       "                                                  ['person_home_ownership',\n",
       "                                                   'loan_intent', 'loan_grade',\n",
       "                                                   'cb_person_default_on_file'])])),\n",
       "                ('model',\n",
       "                 RandomForestClassifier(class_weight='balanced',\n",
       "                                        n_estimators=400, n_jobs=-1,\n",
       "                                        random_state=0))])"
      ]
     },
     "execution_count": 44,
     "metadata": {},
     "output_type": "execute_result"
    }
   ],
   "source": [
    "be = best_algos['RandomForestClassifier']\n",
    "be"
   ]
  },
  {
   "cell_type": "markdown",
   "id": "85edebe1",
   "metadata": {},
   "source": [
    "We also find that for the imputor of missing values in the numerical column, the best is ranfom forest regressor"
   ]
  },
  {
   "cell_type": "code",
   "execution_count": 45,
   "id": "8e4a43f2",
   "metadata": {},
   "outputs": [
    {
     "data": {
      "text/plain": [
       "Pipeline(steps=[('coltf',\n",
       "                 ColumnTransformer(remainder='passthrough',\n",
       "                                   transformers=[('num_pipe',\n",
       "                                                  Pipeline(steps=[('impute',\n",
       "                                                                   IterativeImputer(estimator=RandomForestRegressor(random_state=0))),\n",
       "                                                                  ('scale',\n",
       "                                                                   StandardScaler())]),\n",
       "                                                  ['person_age',\n",
       "                                                   'person_income',\n",
       "                                                   'person_emp_length',\n",
       "                                                   'loan_amnt', 'loan_int_rate',\n",
       "                                                   'loan_percent_income',\n",
       "                                                   'cb_person_cred_hist_length']),\n",
       "                                                 ('cat_cols',\n",
       "                                                  OneHotEncoder(handle_unknown='ignore',\n",
       "                                                                sparse=False),\n",
       "                                                  ['person_home_ownership',\n",
       "                                                   'loan_intent', 'loan_grade',\n",
       "                                                   'cb_person_default_on_file'])])),\n",
       "                ('model',\n",
       "                 RandomForestClassifier(class_weight='balanced',\n",
       "                                        n_estimators=400, n_jobs=-1,\n",
       "                                        random_state=0))])"
      ]
     },
     "execution_count": 45,
     "metadata": {},
     "output_type": "execute_result"
    }
   ],
   "source": [
    "be.fit(X_train, y_train)"
   ]
  },
  {
   "cell_type": "markdown",
   "id": "46dc13b2",
   "metadata": {},
   "source": [
    "So we fit the best model that we found to the training data"
   ]
  },
  {
   "cell_type": "code",
   "execution_count": 46,
   "id": "03ff55c8",
   "metadata": {},
   "outputs": [],
   "source": [
    "preds = be.predict(X_test)"
   ]
  },
  {
   "cell_type": "markdown",
   "id": "92942fe3",
   "metadata": {},
   "source": [
    "Then we predict the values of test set"
   ]
  },
  {
   "cell_type": "code",
   "execution_count": 47,
   "id": "b1cac59a",
   "metadata": {},
   "outputs": [
    {
     "data": {
      "text/plain": [
       "array([[5074,   21],\n",
       "       [ 419, 1003]], dtype=int64)"
      ]
     },
     "execution_count": 47,
     "metadata": {},
     "output_type": "execute_result"
    }
   ],
   "source": [
    "confusion_matrix(y_test, preds)"
   ]
  },
  {
   "cell_type": "code",
   "execution_count": 48,
   "id": "100d6c5a",
   "metadata": {},
   "outputs": [
    {
     "data": {
      "text/plain": [
       "<sklearn.metrics._plot.confusion_matrix.ConfusionMatrixDisplay at 0x2576b772640>"
      ]
     },
     "execution_count": 48,
     "metadata": {},
     "output_type": "execute_result"
    },
    {
     "data": {
      "image/png": "[encoded data removed]",
      "text/plain": [
       "<Figure size 432x288 with 2 Axes>"
      ]
     },
     "metadata": {
      "needs_background": "light"
     },
     "output_type": "display_data"
    }
   ],
   "source": [
    "plot_confusion_matrix(be, X_test, y_test)"
   ]
  },
  {
   "cell_type": "code",
   "execution_count": 49,
   "id": "8d93cd95",
   "metadata": {},
   "outputs": [
    {
     "name": "stdout",
     "output_type": "stream",
     "text": [
      "              precision    recall  f1-score   support\n",
      "\n",
      "           0       0.92      1.00      0.96      5095\n",
      "           1       0.98      0.71      0.82      1422\n",
      "\n",
      "    accuracy                           0.93      6517\n",
      "   macro avg       0.95      0.85      0.89      6517\n",
      "weighted avg       0.94      0.93      0.93      6517\n",
      "\n"
     ]
    }
   ],
   "source": [
    "print(classification_report(y_test, preds))"
   ]
  },
  {
   "cell_type": "code",
   "execution_count": 50,
   "id": "6d63b22a",
   "metadata": {},
   "outputs": [
    {
     "data": {
      "text/plain": [
       "0.9324842719042504"
      ]
     },
     "execution_count": 50,
     "metadata": {},
     "output_type": "execute_result"
    }
   ],
   "source": [
    "be.score(X_test, y_test)"
   ]
  },
  {
   "cell_type": "markdown",
   "id": "3c50154b",
   "metadata": {},
   "source": [
    "Precision Recall Curve"
   ]
  },
  {
   "cell_type": "code",
   "execution_count": 51,
   "id": "f4f8a521",
   "metadata": {},
   "outputs": [
    {
     "data": {
      "text/plain": [
       "<matplotlib.legend.Legend at 0x2572493b820>"
      ]
     },
     "execution_count": 51,
     "metadata": {},
     "output_type": "execute_result"
    },
    {
     "data": {
      "image/png": "[encoded data removed]",
      "text/plain": [
       "<Figure size 432x288 with 1 Axes>"
      ]
     },
     "metadata": {
      "needs_background": "light"
     },
     "output_type": "display_data"
    }
   ],
   "source": [
    "plot_precision_recall_curve(estimator=be, X=X_test, y=y_test, name='model AUC')\n",
    "baseline = y_test.sum() / len(y_test)\n",
    "plt.axhline(baseline, ls='--', color='r', label=f'Baseline model ({round(baseline,2)})')\n",
    "plt.legend(loc='best')"
   ]
  },
  {
   "cell_type": "markdown",
   "id": "3fc05ebb",
   "metadata": {},
   "source": [
    "Area under the curve of the model is .89 and it is good enough as the baseline model is .22"
   ]
  },
  {
   "cell_type": "markdown",
   "id": "6aaa557f",
   "metadata": {},
   "source": [
    "Learning Curve"
   ]
  },
  {
   "cell_type": "code",
   "execution_count": 52,
   "id": "5baa1e02",
   "metadata": {},
   "outputs": [],
   "source": [
    "a, b, c = learning_curve(be, X_train, y_train, n_jobs=-1, scoring='accuracy')"
   ]
  },
  {
   "cell_type": "code",
   "execution_count": 53,
   "id": "7b9ac066",
   "metadata": {},
   "outputs": [
    {
     "data": {
      "text/plain": [
       "<matplotlib.legend.Legend at 0x257000b4e50>"
      ]
     },
     "execution_count": 53,
     "metadata": {},
     "output_type": "execute_result"
    },
    {
     "data": {
      "image/png": "[encoded data removed]",
      "text/plain": [
       "<Figure size 432x288 with 1 Axes>"
      ]
     },
     "metadata": {
      "needs_background": "light"
     },
     "output_type": "display_data"
    }
   ],
   "source": [
    "plt.plot(a, b.mean(axis=1), label='training accuracy')\n",
    "plt.plot(a, c.mean(axis=1),  label='validation accuracy')\n",
    "plt.xlabel('training sample sizes')\n",
    "plt.ylabel('accuracy')\n",
    "plt.legend()"
   ]
  },
  {
   "cell_type": "markdown",
   "id": "c85df9b5",
   "metadata": {},
   "source": [
    "There is little overfitting on the training data set and also gap between the training and validation data curve shows that the variation of model is high  \n",
    "\n",
    "We can improve this by using regularization of decision trees in the random forest classifier."
   ]
  }
 ],
 "metadata": {
  "kernelspec": {
   "display_name": "Python 3 (ipykernel)",
   "language": "python",
   "name": "python3"
  },
  "language_info": {
   "codemirror_mode": {
    "name": "ipython",
    "version": 3
   },
   "file_extension": ".py",
   "mimetype": "text/x-python",
   "name": "python",
   "nbconvert_exporter": "python",
   "pygments_lexer": "ipython3",
   "version": "3.9.7"
  }
 },
 "nbformat": 4,
 "nbformat_minor": 5
}
